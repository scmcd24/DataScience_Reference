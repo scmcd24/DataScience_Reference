{
 "cells": [
  {
   "cell_type": "markdown",
   "metadata": {},
   "source": [
    "# Clustering\n",
    "\n",
    "-   Partition-based methods:\n",
    "    -   kmeans: unsupervised\n",
    "    -   kmedoid\n",
    "-   Density-based:\n",
    "    -   DBSCAN, DBClue\n",
    "-   Hierarchical (unsupervised)\n",
    "    -   Agglomerative vs Divisive\n",
    "    -   Dendrogram\n",
    "\n",
    "#### Types:\n",
    "\n",
    "-   Unsupervised\n",
    "-   Semi-supervised\n",
    "-   Self-supervised\n",
    "\n",
    "#### To add:\n",
    "\n",
    "-   Non-negative matrix factorization?"
   ],
   "id": "cc9a9b4f-e986-4bf2-a095-d1e4510ee002"
  }
 ],
 "nbformat": 4,
 "nbformat_minor": 5,
 "metadata": {}
}
