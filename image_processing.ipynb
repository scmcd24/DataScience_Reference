{
 "cells": [
  {
   "cell_type": "markdown",
   "id": "59cce23c-34a0-4091-97a0-52e1738bd458",
   "metadata": {},
   "source": [
    "# Image Processing\n",
    "\n",
    "#### Interpolation Methods\n",
    "\n",
    " - Adaptive vs non-adaptive\n",
    " - Non-Adaptive Methods (increasing in terms of complexity):\n",
    "     - Nearest Neighbor:\n",
    "         - Current point value is the value of the nearest pixel\n",
    "         - Each pixel gets bigger (?)\n",
    "         - Applicable to discrete and continuous data (value of the\n",
    "            cells is unchanged)\n",
    "         - Benefit: the output values are guaranteed to be real values\n",
    "            in your dataset\n",
    "     - Bilinear:\n",
    "        -   AKA Rook’s case contiguity\n",
    "        -   Considers the closest 2x2 pixels around the current image\n",
    "        -   Current pixel value is a weighted average of those 4 pixels\n",
    "        -   Continuous data only (spatial autocorrelation?)\n",
    "        -   Peaks/valleys may be underestimated\n",
    "     - Bicubic interpolation / Cubic convolution / Cubic spline:\n",
    "        -   AKA Queen’s case contiguity\n",
    "        -   Considers the closest 4x4 pixels around the current image\n",
    "        -   Current pixel value is a weighted average of those 16 pixels\n",
    "        -   Closer pixels are given higher weighting\n",
    "        -   Continuous data only\n",
    "        -   Peaks/valleys may be overestimated"
   ]
  },
  {
   "cell_type": "markdown",
   "id": "8d31c4d7-2674-4ba8-9dbf-bf9dc26de93b",
   "metadata": {},
   "source": [
    "#### To Do:\n",
    " - Bishop’s contiguity? hexagon?\n",
    " - From wikipedia: Bicubic interpolation can be accomplished using either Lagrange polynomials, cubic splines, or cubic convolution algorithm. (???)\n",
    " - diff Bicubic interpolation / Cubic convolution / Cubic spline\n",
    " - Rook’s better for edge detection/image segmentation, bishops’s for texure analysis (textures are diagonal?)"
   ]
  },
  {
   "cell_type": "markdown",
   "id": "33e6c4fa-5ad7-4557-b266-f0a1892a29c1",
   "metadata": {},
   "source": [
    "#### References:\n",
    " - https://www.cambridgeincolour.com/tutorials/image-interpolation.htm#google_vignette\n",
    " - https://desktop.arcgis.com/en/arcmap/latest/extensions/spatial-analyst/performing-analysis/cell-size-and-resampling-in-analysis.htm#:~:text=In%20the%20default%20case%2C%20the,only%20applicable%20to%20continuous%20data.\n",
    " - https://www.google.com/url?sa=i&url=https%3A%2F%2Fwww.mdpi.com%2F2076-3417%2F12%2F22%2F11652&psig=AOvVaw1p480cQ0HjzOEj5Suy-j8l&ust=1739652816995000&source=images&cd=vfe&opi=89978449&ved=0CBQQjRxqFwoTCNjJ6vOFxIsDFQAAAAAdAAAAABAE\n",
    " - https://gis.stackexchange.com/questions/267433/pros-and-cons-of-using-bilinear-interpolation-and-cubic-convolution-when-dealing"
   ]
  }
 ],
 "metadata": {
  "kernelspec": {
   "display_name": "Python 3 (ipykernel)",
   "language": "python",
   "name": "python3"
  },
  "language_info": {
   "codemirror_mode": {
    "name": "ipython",
    "version": 3
   },
   "file_extension": ".py",
   "mimetype": "text/x-python",
   "name": "python",
   "nbconvert_exporter": "python",
   "pygments_lexer": "ipython3",
   "version": "3.12.4"
  }
 },
 "nbformat": 4,
 "nbformat_minor": 5
}
