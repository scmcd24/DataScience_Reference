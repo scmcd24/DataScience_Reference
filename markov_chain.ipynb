{
 "cells": [
  {
   "cell_type": "markdown",
   "metadata": {},
   "source": [
    "#### Markov Chain\n",
    "\n",
    "-   stochastic model\n",
    "    -   a variable whose values depend on the outcomes of random\n",
    "        occurrences\n",
    "-   Stochastic matrix: Each row adds up to one\n",
    "-   Finds the probability of a sequence of events occuring based only on\n",
    "    the current state and the time elapsed\n",
    "-   Memorylessness: model does not depend on past or future states, just\n",
    "    the current one\n",
    "    -   Model doesn’t depend on a word from paragraphs ago, but also\n",
    "        don’t know context of of previous states\n",
    "    -   (Does this help in terms of speed or does it add flexibility?)\n",
    "-   Use cases:\n",
    "    -   finance (predicting events)\n",
    "    -   Google PageRank algorithm, predicting next word in a sequence"
   ],
   "id": "b43811d5-2501-4a6f-ba4f-437829e993eb"
  }
 ],
 "nbformat": 4,
 "nbformat_minor": 5,
 "metadata": {}
}
