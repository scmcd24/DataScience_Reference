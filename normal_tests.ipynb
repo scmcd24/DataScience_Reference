{
 "cells": [
  {
   "cell_type": "markdown",
   "metadata": {},
   "source": [
    "#### Remember\n",
    "\n",
    "-   Categorical data are not even theoretically normal\n",
    "\n",
    "-   Shapiro-Wilk Test\n",
    "\n",
    "    -   Tests if sample comes from normal distribution\n",
    "    -   H0: the sample is normally distributed\n",
    "    -   Best power for detecting effec\n",
    "    -   Does not work well on large datasets: may detect “deviations”\n",
    "        from normality that do not matter: use QQ plot to check\n",
    "\n",
    "-   Quantile-Quantile (QQ) Plot\n",
    "\n",
    "    -   \n",
    "\n",
    "-   Kolmogorov-Smirnov Test:\n",
    "\n",
    "    -   Tests if sample comes from a specific population distribution\n",
    "    -   \n",
    "    -   Less power than Shapiro-Wilk in detecting effect\n",
    "\n",
    "Citations: -\n",
    "https://www.itl.nist.gov/div898/handbook/eda/section3/eda35g.htm"
   ],
   "id": "08b50d0c-2bf6-454c-808a-59228e562283"
  }
 ],
 "nbformat": 4,
 "nbformat_minor": 5,
 "metadata": {}
}
