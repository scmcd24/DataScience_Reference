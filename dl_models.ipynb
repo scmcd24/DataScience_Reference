{
 "cells": [
  {
   "cell_type": "markdown",
   "metadata": {},
   "source": [
    "# Deep Learning Models\n",
    "\n",
    "#### Perceptron:\n",
    "\n",
    "-   \n",
    "\n",
    "#### Diffusion Models\n",
    "\n",
    "-   Add Guassian noise to an image, reverse process and recover image\n",
    "-   Generate image: pass randomly sampled noise through process\n",
    "-   latent variable model using fixed markov chain"
   ],
   "id": "ac1ed2b0-6a20-4b78-b0a1-f083ce537db1"
  }
 ],
 "nbformat": 4,
 "nbformat_minor": 5,
 "metadata": {}
}
