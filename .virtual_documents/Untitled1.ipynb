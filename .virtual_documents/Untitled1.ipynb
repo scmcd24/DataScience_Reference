
import os
import pandas as pd
import seaborn as sns
import matplotlib.pyplot as plt

filepath='/Volumes/martersteck-lab/home/scmcd/framingham/data/sa_u19/fram_scores_250618.csv'

fram_df=pd.read_csv(filepath)
fram_df



def auto_jointgrid(df, x_col, y_col, save_dir):

    fig = sns.JointGrid(data=df, x=x_col, y=y_col)
    fig.plot_joint(sns.scatterplot, s=100, alpha=.5)
    fig.plot_marginals(sns.histplot, kde=True)
    # plt.title(label=f"{x_col} vs {y_col}", loc='center', pad=0.5)
    fig.fig.suptitle(f"{x_col} vs {y_col}", y=1.02)
    plt.ylabel(y_col)
    plt.xlabel(x_col)
    # plt.savefig(f'{save_dir}/{x_col}_{y_col}_jointgrid.png', bbox_inches='tight')
    plt.show()
    plt.close()


sns.kdeplot(data=fram_df, x='age', label='age')
sns.kdeplot(data=fram_df, x='heart_age', label='heart_age')
plt.title('Age vs Heart Age')
plt.legend()
plt.show()




sa_csv='/Users/Siobhan/Downloads/SuperAgingU19-SuperAgingClassifica_DATA_2025-06-18_1423.csv'

sa_df = pd.read_csv(sa_csv)

sa_df['redcap_event_name'] = sa_df['redcap_event_name'].str.replace('_arm_1', '', regex=False)
sa_df = sa_df.rename(columns={'redcap_event_name': 'event_name'})




total_df = pd.merge(left=sa_df, right=fram_df, on=['sa_id','event_name'], how='right')

print(total_df.columns)
print(f"SA SUBTYPE: \n{total_df['sa_subtype'].unique()}")
print(f"SA SUBTYPE ADJUSTED: \n{total_df['sa_subtype_adjusted'].unique()}")

sa_df





import numpy as np
total_df['sa_class'] = np.where(total_df['reydrec'] >= 9, 1, 0)

