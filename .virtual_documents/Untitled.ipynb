# Probability

- What is a probability density function?
    - 
- What is a cumulative distribution function?
    - Every value of a random variable vs the probability 
that the value of the variable is equal to 
- What is a probability mass function?
















