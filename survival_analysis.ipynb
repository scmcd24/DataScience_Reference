{
 "cells": [
  {
   "cell_type": "markdown",
   "metadata": {},
   "source": [
    "# Survival Analysis\n",
    "\n",
    "-   Questions:\n",
    "    -   Impact of covariates on survival?\n",
    "    -   Proportion of population surviving up to event\n",
    "    -   Rate of survival\n",
    "-   Duration times are always positive (and therefore right skewed)\n",
    "-   Censoring: Dealing with missing values Left Censor \\| Interval\n",
    "    Censor \\| Right Sensor ———————————————- Least Common \\<————-\\> Most\n",
    "    Common ———————————————- Event happened sometime before start \\|\n",
    "    event happened between two dates \\| event not yet happened\n",
    "    ———————————————-\n",
    "\n",
    "#### References\n",
    "\n",
    "-   https://statsandr.com/blog/what-is-survival-analysis/"
   ],
   "id": "3643d504-4e3d-4303-afd3-5b9622151b6f"
  }
 ],
 "nbformat": 4,
 "nbformat_minor": 5,
 "metadata": {}
}
