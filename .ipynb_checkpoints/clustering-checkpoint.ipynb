{
 "cells": [
  {
   "cell_type": "markdown",
   "metadata": {},
   "source": [
    "# Clustering\n",
    "\n",
    "-   Partition-based methods:\n",
    "    -   kmeans: unsupervised\n",
    "    -   kmedoid\n",
    "-   Density-based:\n",
    "    -   DBSCAN, DBClue\n",
    "-   Hierarchical (unsupervised)\n",
    "    -   Agglomerative vs Divisive\n",
    "    -   Dendrogram\n",
    "\n",
    "#### Types:\n",
    "\n",
    "-   Unsupervised\n",
    "-   Semi-supervised\n",
    "-   Self-supervised\n",
    "\n",
    "#### To add:\n",
    "\n",
    "-   Non-negative matrix factorization?"
   ],
   "id": "c42b9c6a-ba43-419e-827b-05e6e8adc688"
  }
 ],
 "nbformat": 4,
 "nbformat_minor": 5,
 "metadata": {}
}
