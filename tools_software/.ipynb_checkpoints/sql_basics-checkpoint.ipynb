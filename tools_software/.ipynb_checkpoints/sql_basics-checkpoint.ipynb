{
 "cells": [
  {
   "cell_type": "markdown",
   "id": "f815e7c8",
   "metadata": {},
   "source": [
    "# SQL"
   ]
  },
  {
   "cell_type": "markdown",
   "id": "bd8193c5",
   "metadata": {},
   "source": [
    "#### Why SQL?\n",
    " - faster than Excel, other \"databases\"\n",
    " - concurrent access, data integrity / protections\n",
    " - flexible relational database format (VLOOKUPs or more)"
   ]
  },
  {
   "cell_type": "code",
   "execution_count": 44,
   "id": "ec5eadff-9596-4582-9713-4069f6fcccb6",
   "metadata": {},
   "outputs": [
    {
     "name": "stdout",
     "output_type": "stream",
     "text": [
      "/Users/Siobhan/scmcd_git/DataScience_Reference/tools_software\n"
     ]
    }
   ],
   "source": [
    "![Download ROBEX binary.](https://github.com/scmcd24/DataScience_Reference/ref_images/sql_joins_image.png)"
   ]
  },
  {
   "cell_type": "markdown",
   "id": "21289995-7d61-4466-a6db-e972d998ba93",
   "metadata": {},
   "source": [
    "<img src=\"./_ref_images/sql_joins_img.png\" width=\"500\"/>\n"
   ]
  },
  {
   "cell_type": "markdown",
   "id": "4de4cc79",
   "metadata": {},
   "source": [
    "#### Types of Joins\n",
    "\n",
    "![Types of SQL Joins](sql_joins_img.png \"Types of SQL Joins\")"
   ]
  }
 ],
 "metadata": {
  "kernelspec": {
   "display_name": "Python 3 (ipykernel)",
   "language": "python",
   "name": "python3"
  },
  "language_info": {
   "codemirror_mode": {
    "name": "ipython",
    "version": 3
   },
   "file_extension": ".py",
   "mimetype": "text/x-python",
   "name": "python",
   "nbconvert_exporter": "python",
   "pygments_lexer": "ipython3",
   "version": "3.12.4"
  }
 },
 "nbformat": 4,
 "nbformat_minor": 5
}
